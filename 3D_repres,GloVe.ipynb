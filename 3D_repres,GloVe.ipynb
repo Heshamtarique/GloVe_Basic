{
  "nbformat": 4,
  "nbformat_minor": 0,
  "metadata": {
    "colab": {
      "name": "3D repres,GloVe.ipynb",
      "provenance": [],
      "collapsed_sections": []
    },
    "kernelspec": {
      "name": "python3",
      "display_name": "Python 3"
    },
    "language_info": {
      "name": "python"
    }
  },
  "cells": [
    {
      "cell_type": "markdown",
      "source": [
        "# "
      ],
      "metadata": {
        "id": "WcYDi5J8B8LV"
      }
    },
    {
      "cell_type": "code",
      "execution_count": 1,
      "metadata": {
        "id": "q-83chHUyjwe"
      },
      "outputs": [],
      "source": [
        "import pandas as pd\n",
        "import numpy as np\n",
        "import matplotlib.pyplot as plt"
      ]
    },
    {
      "cell_type": "code",
      "source": [
        "import os\n",
        "import urllib.request\n",
        "import matplotlib.pyplot as plt\n",
        "from scipy import spatial\n",
        "from sklearn.manifold import TSNE\n",
        "import numpy as np"
      ],
      "metadata": {
        "id": "LS086D6RHVQk"
      },
      "execution_count": 2,
      "outputs": []
    },
    {
      "cell_type": "code",
      "source": [
        "emmbed_dict = {}\n",
        "with open(\"/content/drive/MyDrive/glove.6B.50d.txt\", 'r', encoding=\"utf-8\") as f:\n",
        "  for line in f:\n",
        "    values = line.split()\n",
        "    word = values[0]\n",
        "    vector = np.asarray(values[1:],'float32')\n",
        "    emmbed_dict[word]=vector"
      ],
      "metadata": {
        "id": "6j67jHUBywWz"
      },
      "execution_count": 6,
      "outputs": []
    },
    {
      "cell_type": "code",
      "source": [
        ""
      ],
      "metadata": {
        "id": "sNZ_Tnq6zpM7"
      },
      "execution_count": null,
      "outputs": []
    },
    {
      "cell_type": "code",
      "source": [
        "from google.colab import drive\n",
        "drive.mount('/content/drive')"
      ],
      "metadata": {
        "colab": {
          "base_uri": "https://localhost:8080/"
        },
        "id": "7f5lkydPHxBT",
        "outputId": "550f410f-7cd5-40b3-a24e-fc2e4a380dd4"
      },
      "execution_count": 4,
      "outputs": [
        {
          "output_type": "stream",
          "name": "stdout",
          "text": [
            "Mounted at /content/drive\n"
          ]
        }
      ]
    },
    {
      "cell_type": "markdown",
      "source": [
        "## Now we are going to find simmiliar word using the embedding provided by the GloVe. \n",
        "### We will input any word and based on the GloVe embedding it will provide simmilar words. RIVER: down below lists the 10 words very near to its meaning "
      ],
      "metadata": {
        "id": "QiVEs7MdIkV-"
      }
    },
    {
      "cell_type": "code",
      "source": [
        "def find_similar_word(emmbedes):\n",
        "  nearest = sorted(emmbed_dict.keys(), key=lambda word: spatial.distance.euclidean(emmbed_dict[word], emmbedes))\n",
        "  return nearest"
      ],
      "metadata": {
        "id": "4a37bPGi0fu0"
      },
      "execution_count": 7,
      "outputs": []
    },
    {
      "cell_type": "code",
      "source": [
        "# lets find top 10 similar words for \"RIVER\"    creek: Narrow current of water\n",
        "\n",
        "\n",
        "find_similar_word(emmbed_dict['river'])[0:10]"
      ],
      "metadata": {
        "colab": {
          "base_uri": "https://localhost:8080/"
        },
        "id": "fZBEKCA_I5Bj",
        "outputId": "352de2c3-e323-403a-ee5c-060bb121e2ec"
      },
      "execution_count": 8,
      "outputs": [
        {
          "output_type": "execute_result",
          "data": {
            "text/plain": [
              "['river',\n",
              " 'rivers',\n",
              " 'creek',\n",
              " 'valley',\n",
              " 'tributary',\n",
              " 'basin',\n",
              " 'flows',\n",
              " 'tributaries',\n",
              " 'lake',\n",
              " 'confluence']"
            ]
          },
          "metadata": {},
          "execution_count": 8
        }
      ]
    },
    {
      "cell_type": "markdown",
      "source": [
        "## Let's say we want to find out what should be the top 10 outputs of similar words of \"king + Queen + Prince\" \n",
        "### One amazing thing that can be seen is that how phenomenal answer we are getitng using GloVe. Secondly, we will get some different words most of the time when we run this code again and again."
      ],
      "metadata": {
        "id": "H3qpF5BbJzWK"
      }
    },
    {
      "cell_type": "code",
      "source": [
        "find_similar_word(emmbed_dict['king'] + emmbed_dict['queen'] + emmbed_dict['prince'])[0:10]"
      ],
      "metadata": {
        "colab": {
          "base_uri": "https://localhost:8080/"
        },
        "id": "jLXiAq2qI77C",
        "outputId": "f7d327b0-be18-4aea-d2a6-520286bbb160"
      },
      "execution_count": 9,
      "outputs": [
        {
          "output_type": "execute_result",
          "data": {
            "text/plain": [
              "['king',\n",
              " 'prince',\n",
              " 'queen',\n",
              " 'throne',\n",
              " 'princess',\n",
              " 'son',\n",
              " 'emperor',\n",
              " 'royal',\n",
              " 'daughter',\n",
              " 'father']"
            ]
          },
          "metadata": {},
          "execution_count": 9
        }
      ]
    },
    {
      "cell_type": "markdown",
      "source": [
        "### To visualize the vectors, we are using a method called distributed stochastic gradient neighbor embeddings in short known as TSNE, which is used to reduce data dimensions. Here we are dealing with 200-dimensional data TSNE will break it down into components as we want here; we will break it into two dimensions.\n",
        "\n",
        "### After training and fitting the TSNE model, it is all about plotting the vector; we are using a scatter plot as the vector is distributed over the space. The matplotlib library can do this. Annotating each point will give a more insightful vector representation. "
      ],
      "metadata": {
        "id": "loGUSpdIgm7Y"
      }
    },
    {
      "cell_type": "code",
      "source": [
        "distri = TSNE(n_components=3)\n",
        "words = list(emmbed_dict.keys())\n",
        "vectors = [emmbed_dict[word] for word in words]\n",
        "y = distri.fit_transform(vectors[700:750])\n",
        "plt.figure(figsize=(14,8))\n",
        "plt.scatter(y[:, 0],y[:,1])\n",
        "for label,x,y in zip(words,y[:, 0],y[:,1]):\n",
        "  plt.annotate(label,xy=(x,y),xytext=(0,0),textcoords='offset points')\n",
        "plt.show()"
      ],
      "metadata": {
        "colab": {
          "base_uri": "https://localhost:8080/",
          "height": 569
        },
        "id": "Pm9EK8h6M3J1",
        "outputId": "07a6cd94-a3c5-4409-a09d-76ef57298cc5"
      },
      "execution_count": 14,
      "outputs": [
        {
          "output_type": "stream",
          "name": "stderr",
          "text": [
            "/usr/local/lib/python3.7/dist-packages/sklearn/manifold/_t_sne.py:783: FutureWarning: The default initialization in TSNE will change from 'random' to 'pca' in 1.2.\n",
            "  FutureWarning,\n",
            "/usr/local/lib/python3.7/dist-packages/sklearn/manifold/_t_sne.py:793: FutureWarning: The default learning rate in TSNE will change from 200.0 to 'auto' in 1.2.\n",
            "  FutureWarning,\n"
          ]
        },
        {
          "output_type": "display_data",
          "data": {
            "image/png": "[encoded data removed]",
            "text/plain": [
              "<Figure size 1008x576 with 1 Axes>"
            ]
          },
          "metadata": {
            "needs_background": "light"
          }
        }
      ]
    },
    {
      "cell_type": "markdown",
      "source": [
        "### we have seen how vector representation techniques such as GloVe can be used to represent a given corpus with semantic meaning. Additionally, we have seen the main working idea behind the GloVe, which is a co-occurrence matrix, and how GloVe considers the particular word over others based on probabilities. "
      ],
      "metadata": {
        "id": "dJiRLiD3g3tk"
      }
    },
    {
      "cell_type": "code",
      "source": [
        ""
      ],
      "metadata": {
        "id": "vJxY51GHgrQf"
      },
      "execution_count": null,
      "outputs": []
    }
  ]
}